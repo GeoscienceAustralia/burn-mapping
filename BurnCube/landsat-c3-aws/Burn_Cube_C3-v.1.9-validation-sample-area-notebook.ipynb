{
 "cells": [
  {
   "cell_type": "markdown",
   "id": "8b46a092-652e-4ad6-8321-43d38f6be90d",
   "metadata": {},
   "source": [
    "## Burn Cube C3 Sandbox (AWS) Notebook"
   ]
  },
  {
   "cell_type": "markdown",
   "id": "5ef4a0e8-2281-494b-a052-3e4af11b5467",
   "metadata": {},
   "source": [
    "### Calculating 4 years Geo Median\n",
    "\n",
    "Let us use the odc-stats to generate Geo Median result ('2013-01-01','2016-12-31').\n",
    "\n",
    "The CMDs are:\n",
    "\n",
    "odc-stats save-tasks --frequency all --grid au-30 --temporal-range 2013--P3Y --gqa 1 --input-products ga_ls8c_ard_3\n",
    "odc-stats run --config https://raw.githubusercontent.com/GeoscienceAustralia/dea-config/master/dev/services/odc-stats/geomedian/ga_ls8c_nbart_gm_cyear_3.yaml ga_ls8c_ard_3_2013--P3Y.db 1157:1158 --location file:///home/jovyan/Burn_Cube/burn_cube_geomad_test\n",
    "\n",
    "Note: \n",
    "\n",
    "1. yes, we should use --temporal-range 2013--P3Y to get '2013-01-01','2016-12-31' range\n",
    "2. the db index 1157:1158 refs to x45y19"
   ]
  },
  {
   "cell_type": "code",
   "execution_count": null,
   "id": "ef7bd972-051f-4bef-9e1a-0704d2415d44",
   "metadata": {},
   "outputs": [],
   "source": [
    "import itertools\n",
    "\n",
    "import datacube\n",
    "import dea_tools.datahandling\n",
    "import dea_tools.bandindices\n",
    "import geopandas as gpd\n",
    "import matplotlib.pyplot as plt\n",
    "import numpy as np\n",
    "import xarray as xr\n",
    "import datetime\n",
    "import seaborn as sns\n",
    "import matplotlib.dates as mdates\n",
    "import pandas as pd\n",
    "\n",
    "import bc_utils as utils\n",
    "\n",
    "dc = datacube.Datacube(app='Burn Cube C3 notebook')"
   ]
  },
  {
   "cell_type": "markdown",
   "id": "aaa1fd78-0137-4408-8a44-7d889b614637",
   "metadata": {},
   "source": [
    "## Use the extent from Geo MAD GeoTiff as Area of Interest"
   ]
  },
  {
   "cell_type": "code",
   "execution_count": null,
   "id": "14627481-0bdd-4eb0-9d62-c36f7adb503b",
   "metadata": {},
   "outputs": [],
   "source": [
    "import numpy as np\n",
    "import geopandas as gpd\n",
    "from shapely.geometry import Polygon\n",
    "import rioxarray\n",
    "import json\n",
    "from PIL import Image\n",
    "import xarray as xr\n",
    "from dea_tools.spatial import xr_rasterize\n",
    "\n",
    "from dea_tools.dask import create_local_dask_cluster\n",
    "\n",
    "client = create_local_dask_cluster(return_client=True)"
   ]
  },
  {
   "cell_type": "code",
   "execution_count": 3,
   "id": "468b0f40-07fa-4daf-8c69-f8f509929b5f",
   "metadata": {},
   "outputs": [
    {
     "data": {
      "image/svg+xml": [
       "<svg xmlns=\"http://www.w3.org/2000/svg\" xmlns:xlink=\"http://www.w3.org/1999/xlink\" width=\"300\" height=\"300\" viewBox=\"1628160.0 -3651840.0 103680.0 103680.0\" preserveAspectRatio=\"xMinYMin meet\"><g transform=\"matrix(1,0,0,-1,0,-7200000.0)\"><path fill-rule=\"evenodd\" fill=\"#66cc99\" stroke=\"#555555\" stroke-width=\"691.2\" opacity=\"0.6\" d=\"M 1632000.0,-3552000.0 L 1632000.0,-3648000.0 L 1728000.0,-3648000.0 L 1728000.0,-3552000.0 L 1632000.0,-3552000.0 z\" /></g></svg>"
      ],
      "text/plain": [
       "<shapely.geometry.polygon.Polygon at 0x7f15dd45dd00>"
      ]
     },
     "execution_count": 3,
     "metadata": {},
     "output_type": "execute_result"
    }
   ],
   "source": [
    "# https://explorer.dev.dea.ga.gov.au/products/ga_ls8c_nbart_gm_cyear_3/datasets/3ebab65f-6946-4e4c-8e5c-a56e132f63ed\n",
    "\n",
    "# refs to: odc:region_code: x45y19\n",
    "\n",
    "metadata = dc.index.datasets.get(\"3ebab65f-6946-4e4c-8e5c-a56e132f63ed\")\n",
    "geometry_list = [metadata.extent]\n",
    "polygon = gpd.GeoDataFrame(index=range(len(geometry_list)), crs=\"epsg:3577\", geometry=geometry_list)       \n",
    "polygon.iloc[0].geometry"
   ]
  },
  {
   "cell_type": "markdown",
   "id": "d84f5e8c-72ee-4450-9e69-0c9c3ee5b957",
   "metadata": {},
   "source": [
    "### Calculating 4 years Cosine distance and Euclidian distances\n",
    "\n",
    "Still use ('2013-01-01','2016-12-31'), and calculating its cosine distance and euclidian distance.\n",
    "\n",
    "Use Open Data Cube interface to load ARD dataset. Also use XArray to load Geo Median result from filesystem.\n"
   ]
  },
  {
   "cell_type": "code",
   "execution_count": null,
   "id": "3ab938f0-5eb7-4b4f-8d92-7112c92ce5ca",
   "metadata": {},
   "outputs": [],
   "source": [
    "def generate_subregion_result(dc, bands, period, mappingperiod, polgyon_geometry, x_i, y_i, split_count):\n",
    "    \n",
    "    gpgon = datacube.utils.geometry.Geometry(polgyon_geometry, crs=\"epsg:3577\")\n",
    "    \n",
    "    ard = dea_tools.datahandling.load_ard(dc, products=['ga_ls8c_ard_3'], measurements=bands,\n",
    "                                     geopolygon=gpgon,\n",
    "                                     output_crs='EPSG:3577', resolution=(-30, 30), resampling={'fmask': 'nearest', '*': 'bilinear'},\n",
    "                                     dask_chunks={'time': 1, 'x': int(3200/split_count), 'y': int(3200/split_count)},\n",
    "                                     time=period, group_by='solar_day')\n",
    "    \n",
    "    x_code = \"x45\"\n",
    "    y_code = \"y19\"\n",
    "    region_code = f\"{x_code}{y_code}\"\n",
    "\n",
    "    geomad_dataset = []\n",
    "\n",
    "    for band_name in bands:\n",
    "        band_data = rioxarray.open_rasterio(f\"burn_cube_geomad_test/{x_code}/{y_code}/2013--P4Y/ga_ls8c_nbart_gm_cyear_3_{region_code}_2013--P4Y_final_{band_name}.tif\")\n",
    "        geomad_dataset.append(band_data[0, :, :].to_dataset(name=band_name))\n",
    "\n",
    "    geomad_ds = xr.merge(geomad_dataset)\n",
    "\n",
    "    geomed = geomad_ds[bands].to_array(dim='band').to_dataset(name='geomedian')\n",
    "    geomed.attrs[\"crs\"] = ard.crs\n",
    "    \n",
    "    ard = ard[bands].to_array(dim='band').to_dataset(name='ard')\n",
    "    \n",
    "    interval = int(len(ard.ard.x)/split_count)\n",
    "    \n",
    "    \n",
    "    ard = ard.ard.isel(x=range(x_i*interval, (x_i + 1)*interval), y=range(y_i*interval, (y_i + 1)*interval))\n",
    "    geomed = geomed.geomedian.isel(x=range(x_i*interval, (x_i + 1)*interval), y=range(y_i*interval, (y_i + 1)*interval))\n",
    "    \n",
    "    \n",
    "    ard = ard.load()\n",
    "    \n",
    "    dis = utils.distances(ard, geomed)\n",
    "    \n",
    "    outliers_result = utils.outliers(ard, dis)\n",
    "    \n",
    "    del ard, dis\n",
    "    \n",
    "    mapping_ard = dea_tools.datahandling.load_ard(dc, products=['ga_ls8c_ard_3'], measurements=bands,\n",
    "                                geopolygon=gpgon,\n",
    "                                output_crs='EPSG:3577', resolution=(-30, 30), resampling={'fmask': 'nearest', '*': 'bilinear'},\n",
    "                                dask_chunks={},\n",
    "                                time=mappingperiod, group_by='solar_day')\n",
    "\n",
    "    mapping_ard = mapping_ard[bands].to_array(dim='band').to_dataset(name='ard')\n",
    "    mapping_ard = mapping_ard.ard.isel(x=range(x_i*interval, (x_i + 1)*interval), y=range(y_i*interval, (y_i + 1)*interval))\n",
    "    mapping_ard = mapping_ard.load()\n",
    "    \n",
    "    mapping_dis = utils.distances(mapping_ard, geomed)\n",
    "    \n",
    "    return utils.severitymapping(mapping_dis, outliers_result, mappingperiod, method='NBR',growing=True)"
   ]
  },
  {
   "cell_type": "code",
   "execution_count": null,
   "id": "d7eeff82-bebd-4480-bf11-75916ad57160",
   "metadata": {},
   "outputs": [],
   "source": [
    "%%time\n",
    "\n",
    "bands = [f'nbart_{band}' for band in ('red', 'green', 'blue', 'nir', 'swir_1', 'swir_2')]\n",
    "\n",
    "period = ('2013-01-01','2016-12-31')\n",
    "mappingperiod = ('2017-01-01','2017-12-31')\n",
    "\n",
    "\n",
    "split_count = 2\n",
    "\n",
    "out_list = []\n",
    "\n",
    "for x_i in range(split_count):\n",
    "    for y_i in range(split_count):\n",
    "        out = generate_subregion_result(dc, bands, period, mappingperiod, polygon.geometry[0], x_i, y_i, split_count)\n",
    "            \n",
    "        if out:\n",
    "            out_list.append(out)\n",
    "            # save the output in netCDF\n",
    "            comp = dict(zlib=True, complevel=5)\n",
    "            encoding = {var: comp for var in out.data_vars} # compression\n",
    "            # this will save it in the current working directory\n",
    "            out.to_netcdf(f\"BurnMapping_SirIvan_2017_C3_AWS_sandbox-x_{x_i}-y_{y_i}.nc\",encoding=encoding)\n",
    "\n",
    "        #    # save the output in GeoTIFF\n",
    "        #    from datacube.utils.cog import write_cog\n",
    "\n",
    "        #    for data_var_name in out.data_vars:\n",
    "        #        write_cog(out[data_var_name], fname=\"BurnMapping_SirIvan_2017_C3_AWS_sandbox-\" + data_var_name + f\"-{i}.tif\", overwrite=True)\n",
    "    "
   ]
  },
  {
   "cell_type": "code",
   "execution_count": null,
   "id": "dff12107-ac3d-4ebf-8628-43d7e6278364",
   "metadata": {},
   "outputs": [],
   "source": []
  }
 ],
 "metadata": {
  "kernelspec": {
   "display_name": "Python 3 (ipykernel)",
   "language": "python",
   "name": "python3"
  },
  "language_info": {
   "codemirror_mode": {
    "name": "ipython",
    "version": 3
   },
   "file_extension": ".py",
   "mimetype": "text/x-python",
   "name": "python",
   "nbconvert_exporter": "python",
   "pygments_lexer": "ipython3",
   "version": "3.8.10"
  }
 },
 "nbformat": 4,
 "nbformat_minor": 5
}
